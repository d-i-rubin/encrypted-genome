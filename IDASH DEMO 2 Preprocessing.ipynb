{
 "cells": [
  {
   "cell_type": "code",
   "execution_count": 1,
   "id": "6804d39c",
   "metadata": {},
   "outputs": [],
   "source": [
    "#Import necessary libraries\n",
    "\n",
    "import numpy as np\n",
    "import pandas as pd\n",
    "import seal\n",
    "from seal import *\n",
    "import sourmash as smsh\n",
    "import matplotlib.pyplot as plt\n",
    "import pickle"
   ]
  },
  {
   "cell_type": "code",
   "execution_count": 2,
   "id": "265b926a",
   "metadata": {},
   "outputs": [],
   "source": [
    "import os\n",
    "import shutil\n",
    "\n",
    "try:\n",
    "    shutil.rmtree('2')\n",
    "except FileNotFoundError:\n",
    "    pass\n",
    "os.makedirs('2/public')\n",
    "os.makedirs('2/private')"
   ]
  },
  {
   "cell_type": "code",
   "execution_count": 3,
   "id": "3dba5895",
   "metadata": {},
   "outputs": [],
   "source": [
    "#Data Owner loads sketches of private data and loads anchor sketches sent by Model Owner\n",
    "\n",
    "test_sketches = pickle.load(open('1/public/test_sketches.dump', 'rb'))\n",
    "anchor_sketches = pickle.load(open('1/public/anchor_sketches.dump', 'rb'))"
   ]
  },
  {
   "cell_type": "code",
   "execution_count": 4,
   "id": "ab595c4b",
   "metadata": {},
   "outputs": [],
   "source": [
    "#DATA OWNER preprocessing\n",
    "#Model owner sends data owner sketches of the anchor samples \n",
    "#Data owner computes vector of distances to each of the 12 anchors\n",
    "#for each test sample.\n",
    "#These vectors will be hidden by the encryption.\n",
    "\n",
    "jacc_sim = np.zeros((1000,12))\n",
    "\n",
    "i=0\n",
    "for sketch in test_sketches[0]:\n",
    "    j=0\n",
    "    for anchor in anchor_sketches[0]:\n",
    "        jacc_sim[i,j] = round(sketch.jaccard(anchor),4)\n",
    "        j+=1\n",
    "    i+=1\n",
    "        \n",
    "dist_data = np.zeros((1000,12))\n",
    "\n",
    "for i in range(1000):\n",
    "    for j in range(12):\n",
    "        dist_data[i,j] = -np.log(2*jacc_sim[i,j])+np.log(1+jacc_sim[i,j])"
   ]
  },
  {
   "cell_type": "code",
   "execution_count": 5,
   "id": "0d09d1d4",
   "metadata": {},
   "outputs": [],
   "source": [
    "#DATA OWNER preprocessing\n",
    "#Batches 341 samples into a single plaintext (8192 slots / (12 + 12 empty))\n",
    "#1000 samples are placed into 3 large vectors\n",
    "#batch_data[2] has extra 0's at the end\n",
    "batch_data = np.zeros((3,8192))\n",
    "for i in range(3):\n",
    "    for j in range(341):\n",
    "        if 341*i+j < 1000:\n",
    "            batch_data[i][24*j:24*j+12] = dist_data[341*i+j]"
   ]
  },
  {
   "cell_type": "code",
   "execution_count": 6,
   "id": "93ed3c7a",
   "metadata": {},
   "outputs": [],
   "source": [
    "#DATA OWNER\n",
    "#Set the parameters of the encryption context.\n",
    "#In real situation, the Model Owner would communicate the parameters poly_modulus_degree,\n",
    "#list of prime sizes in coeff_modulus, and scale,\n",
    "#based on the number of rescalings in their evaluation.\n",
    "\n",
    "parms = EncryptionParameters(scheme_type.ckks)\n",
    "poly_modulus_degree = 16384\n",
    "parms.set_poly_modulus_degree(poly_modulus_degree)\n",
    "parms.set_coeff_modulus(CoeffModulus.Create(poly_modulus_degree, [60, 40, 40, 40, 40, 40, 60]))\n",
    "#320-bit coeff modulus Q. \n",
    "#From SEAL manual, security cutoffs for N=16384 are 300 bits for 192-bit security, 438 bits for 128-bit security.\n",
    "scale = 2.0**40\n",
    "context = SEALContext(parms)\n",
    "#print_parameters(context)\n",
    "\n",
    "ckks_encoder = CKKSEncoder(context)\n",
    "slot_count = ckks_encoder.slot_count()\n",
    "\n",
    "keygen = KeyGenerator(context)\n",
    "public_key = keygen.create_public_key()\n",
    "secret_key = keygen.secret_key()\n",
    "galois_keys = keygen.create_galois_keys()\n",
    "relin_keys = keygen.create_relin_keys()\n",
    "\n",
    "encryptor = Encryptor(context, public_key)\n",
    "evaluator = Evaluator(context)"
   ]
  },
  {
   "cell_type": "code",
   "execution_count": 7,
   "id": "4b03c595",
   "metadata": {},
   "outputs": [],
   "source": [
    "#DATA OWNER\n",
    "#Encode and encrypt data owner's distance vector\n",
    "pt_data = []\n",
    "ct_data = []\n",
    "\n",
    "for i in range(3):\n",
    "    pt_data.append(ckks_encoder.encode(batch_data[i],scale))\n",
    "    ct_data.append(encryptor.encrypt(pt_data[i]))"
   ]
  },
  {
   "cell_type": "code",
   "execution_count": 8,
   "id": "7f14bfcf",
   "metadata": {},
   "outputs": [],
   "source": [
    "#DATA OWNER\n",
    "#Save to file: ciphertext data and encryption context,\n",
    "#including parameters, public key, galois keys, and relinearization keys\n",
    "#This data is sent to the Model Owner for Step 3.\n",
    "\n",
    "ct_data[0].save('2/public/ct_0')\n",
    "ct_data[1].save('2/public/ct_1')\n",
    "ct_data[2].save('2/public/ct_2')\n",
    "\n",
    "\n",
    "\n",
    "parms.save('2/public/IDASH_parms')\n",
    "public_key.save('2/public/IDASH_pubkey')\n",
    "galois_keys.save('2/public/IDASH_galkeys')\n",
    "relin_keys.save('2/public/IDASH_relinkeys')\n",
    "pickle.dump(scale, open('2/public/IDASH_scale','wb'))"
   ]
  },
  {
   "cell_type": "code",
   "execution_count": 9,
   "id": "fdec49ad",
   "metadata": {},
   "outputs": [],
   "source": [
    "#Data Owner saves secret key for Step 4\n",
    "\n",
    "secret_key.save('2/private/IDASH_secretkey')"
   ]
  }
 ],
 "metadata": {
  "kernelspec": {
   "display_name": "Python 3 (ipykernel)",
   "language": "python",
   "name": "python3"
  },
  "language_info": {
   "codemirror_mode": {
    "name": "ipython",
    "version": 3
   },
   "file_extension": ".py",
   "mimetype": "text/x-python",
   "name": "python",
   "nbconvert_exporter": "python",
   "pygments_lexer": "ipython3",
   "version": "3.9.7"
  }
 },
 "nbformat": 4,
 "nbformat_minor": 5
}
