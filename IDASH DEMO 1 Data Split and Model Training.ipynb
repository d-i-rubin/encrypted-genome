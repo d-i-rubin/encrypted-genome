{
 "cells": [
  {
   "cell_type": "code",
   "execution_count": 1,
   "id": "6fda622b",
   "metadata": {},
   "outputs": [],
   "source": [
    "import pickle"
   ]
  },
  {
   "cell_type": "code",
   "execution_count": 2,
   "id": "ab7694d0",
   "metadata": {},
   "outputs": [],
   "source": [
    "#Import necessary libraries\n",
    "\n",
    "import numpy as np\n",
    "import pandas as pd\n",
    "import seal\n",
    "from seal import *\n",
    "import sourmash as smsh\n",
    "import time\n",
    "import matplotlib.pyplot as plt"
   ]
  },
  {
   "cell_type": "code",
   "execution_count": 3,
   "id": "3c4beaff",
   "metadata": {},
   "outputs": [],
   "source": [
    "import os\n",
    "import shutil\n",
    "\n",
    "try:\n",
    "    shutil.rmtree('1')\n",
    "except FileNotFoundError:\n",
    "    pass\n",
    "os.makedirs('1/public')\n",
    "os.makedirs('1/private')"
   ]
  },
  {
   "cell_type": "code",
   "execution_count": 4,
   "id": "c55af671",
   "metadata": {},
   "outputs": [],
   "source": [
    "#Load 8000 labelled samples, comprising training and test data\n",
    "def load_data():\n",
    "    with open(\"Challenge.fa\", \"r\") as f:\n",
    "        data = f.readlines()\n",
    "\n",
    "    labels = []\n",
    "    sequences = []\n",
    "    lengths = []\n",
    "    for k in range(len(data)):\n",
    "        if k % 2 == 0:\n",
    "            labels.append(data[k])\n",
    "        else:\n",
    "            seq = data[k].strip()\n",
    "            lengths.append(len(seq))\n",
    "            sequences.append(seq)\n",
    "\n",
    "    # uniformize lengths by filling in with N's\n",
    "    #max_length = max(lengths)\n",
    "    #for i in range(len(sequences)):\n",
    "        #padding_size = max_length - len(sequences[i])\n",
    "        #for j in range(padding_size):\n",
    "            #sequences[i] += \"N\"\n",
    "\n",
    "\n",
    "    types = [\">B.1.526\", \">B.1.1.7\", \">B.1.427\", \">P.1\"]\n",
    "\n",
    "    dataframe = []\n",
    "\n",
    "    for i in range(len(labels)):\n",
    "        entry = []\n",
    "        # 2021/08/02: re-replaced use of match-case (Python 3.10) for backwards compatibility\n",
    "        for j in range(len(types)):\n",
    "            if labels[i].startswith(types[j]):\n",
    "                entry.append(j)\n",
    "                virus_number = labels[i].split(\"_\")[1].strip()\n",
    "                entry.append(virus_number)\n",
    "                entry.append(sequences[i])\n",
    "                break\n",
    "\n",
    "            if j == 3:\n",
    "                raise \"Bad entry\"\n",
    "\n",
    "        dataframe.append(entry)\n",
    "\n",
    "    return dataframe"
   ]
  },
  {
   "cell_type": "code",
   "execution_count": 5,
   "id": "aec71dd9",
   "metadata": {},
   "outputs": [],
   "source": [
    "data = load_data()"
   ]
  },
  {
   "cell_type": "code",
   "execution_count": 6,
   "id": "fdd4768b",
   "metadata": {},
   "outputs": [],
   "source": [
    "data_df = pd.DataFrame(data)\n",
    "labels = data_df[:][0]"
   ]
  },
  {
   "cell_type": "code",
   "execution_count": 7,
   "id": "887cc219",
   "metadata": {},
   "outputs": [],
   "source": [
    "base_dict = {0:'A',1:'C',2:'G',3:'T'}"
   ]
  },
  {
   "cell_type": "code",
   "execution_count": 8,
   "id": "fabbd235",
   "metadata": {},
   "outputs": [
    {
     "name": "stdout",
     "output_type": "stream",
     "text": [
      "Time to Replace unknowns: 75.871s\n"
     ]
    }
   ],
   "source": [
    "#Key preprocessing step:\n",
    "#Replace all non-ACTG characters with an ACTG chosen uniformly at random.\n",
    "start = time.time()\n",
    "data_Nrand = []\n",
    "\n",
    "for i in range(len(data)):\n",
    "    string_mod = ''\n",
    "    for j in range(len(data[i][2])):\n",
    "        if data[i][2][j]=='A' or data[i][2][j]=='C' or data[i][2][j]=='G' or data[i][2][j]=='T':\n",
    "            string_mod += data[i][2][j]\n",
    "        else:\n",
    "            string_mod+= base_dict[np.random.randint(0,4)]\n",
    "    data_Nrand.append([data[i][0],data[i][1],string_mod])\n",
    "    \n",
    "end = time.time()\n",
    "print(f'Time to Replace unknowns: {(end-start):.3f}s')"
   ]
  },
  {
   "cell_type": "code",
   "execution_count": 9,
   "id": "d44b496a",
   "metadata": {},
   "outputs": [
    {
     "name": "stdout",
     "output_type": "stream",
     "text": [
      "Time to form sketches: 27.785s\n"
     ]
    }
   ],
   "source": [
    "#These are the sketch parameters that I settled on. Form sketches of all samples.\n",
    "start = time.time()\n",
    "sketches = []\n",
    "N = 5000\n",
    "K = 33\n",
    "\n",
    "for i in range(len(data_Nrand)):\n",
    "    mh = smsh.MinHash(n=N,ksize=K)\n",
    "    mh.add_sequence(data_Nrand[i][2])\n",
    "    sketches.append(mh)\n",
    "    \n",
    "end = time.time()\n",
    "print(f'Time to form sketches: {(end-start):.3f}s')"
   ]
  },
  {
   "cell_type": "code",
   "execution_count": 10,
   "id": "23d4a1a9",
   "metadata": {},
   "outputs": [
    {
     "data": {
      "text/plain": [
       "7289    7289\n",
       "5447    5447\n",
       "5159    5159\n",
       "3020    3020\n",
       "1866    1866\n",
       "        ... \n",
       "4280    4280\n",
       "2146    2146\n",
       "6111    6111\n",
       "1724    1724\n",
       "6194    6194\n",
       "Length: 1000, dtype: int64"
      ]
     },
     "execution_count": 10,
     "metadata": {},
     "output_type": "execute_result"
    }
   ],
   "source": [
    "#Set aside 1000 samples as test set held by data owner.\n",
    "s= pd.Series(np.arange(8000))\n",
    "test_samples = s.sample(n=1000, random_state = 101)\n",
    "test_samples"
   ]
  },
  {
   "cell_type": "code",
   "execution_count": 11,
   "id": "45428542",
   "metadata": {},
   "outputs": [],
   "source": [
    "sketches_df = pd.DataFrame(sketches)\n",
    "test_sketches = sketches_df.iloc[list(test_samples)]"
   ]
  },
  {
   "cell_type": "code",
   "execution_count": 12,
   "id": "b02355f4",
   "metadata": {},
   "outputs": [
    {
     "data": {
      "text/plain": [
       "7289    0\n",
       "5447    3\n",
       "5159    3\n",
       "3020    1\n",
       "1866    2\n",
       "       ..\n",
       "4280    3\n",
       "2146    1\n",
       "6111    0\n",
       "1724    2\n",
       "6194    0\n",
       "Name: 0, Length: 1000, dtype: int64"
      ]
     },
     "execution_count": 12,
     "metadata": {},
     "output_type": "execute_result"
    }
   ],
   "source": [
    "test_labels = labels[list(test_samples)]\n",
    "test_labels"
   ]
  },
  {
   "cell_type": "code",
   "execution_count": 13,
   "id": "e6d48c7a",
   "metadata": {},
   "outputs": [],
   "source": [
    "#Save test labels for Data Owner to access in Step 4.\n",
    "#In real situation these would not be accessible to Model Owner.\n",
    "\n",
    "test_labels.to_pickle('1/public/data_owner_labels')"
   ]
  },
  {
   "cell_type": "code",
   "execution_count": 14,
   "id": "fa137dbb",
   "metadata": {},
   "outputs": [],
   "source": [
    "test_indices = list(test_samples)\n",
    "test_indices.sort(reverse=True)"
   ]
  },
  {
   "cell_type": "code",
   "execution_count": 15,
   "id": "98596003",
   "metadata": {},
   "outputs": [],
   "source": [
    "#Hold test sketches aside from training set.\n",
    "for i in range(len(test_indices)):\n",
    "    sketches.pop(test_indices[i])"
   ]
  },
  {
   "cell_type": "code",
   "execution_count": 16,
   "id": "38306c49",
   "metadata": {},
   "outputs": [],
   "source": [
    "#Remove test labels\n",
    "for i in range(len(test_indices)):\n",
    "    labels.pop(test_indices[i])"
   ]
  },
  {
   "cell_type": "code",
   "execution_count": 17,
   "id": "5d464cf4",
   "metadata": {},
   "outputs": [
    {
     "name": "stdout",
     "output_type": "stream",
     "text": [
      "Time to compute similarities between all training sketches: 1697.053s\n"
     ]
    }
   ],
   "source": [
    "#MODEL OWNER (TRAINING)\n",
    "#Compute full matrix of Jaccard similarities. Takes a long time.\n",
    "start = time.time()\n",
    "jacc_sim = np.zeros((7000,7000))\n",
    "\n",
    "for i in range(len(sketches)):\n",
    "    #print(i)\n",
    "    for j in range(i+1,len(sketches)):\n",
    "        jacc_sim[i,j] = round(sketches[i].jaccard(sketches[j]),4)\n",
    "        \n",
    "end = time.time()\n",
    "print(f'Time to compute similarities between all training sketches: {(end-start):.3f}s')"
   ]
  },
  {
   "cell_type": "code",
   "execution_count": 18,
   "id": "3b50906f",
   "metadata": {},
   "outputs": [
    {
     "name": "stdout",
     "output_type": "stream",
     "text": [
      "Time to compute training distances: 64.510s\n"
     ]
    }
   ],
   "source": [
    "#Turn Jaccard similarities into matrix of distances.\n",
    "start = time.time()\n",
    "dist_adj = np.zeros((7000,7000))\n",
    "\n",
    "for i in range(7000):\n",
    "    #print(i)\n",
    "    for j in range(i+1,7000):\n",
    "        dist_adj[i,j] = -np.log(2*jacc_sim[i,j])+np.log(1+jacc_sim[i,j])\n",
    "        dist_adj[j,i] = dist_adj[i,j]\n",
    "        \n",
    "end = time.time()\n",
    "print(f'Time to compute training distances: {(end-start):.3f}s')"
   ]
  },
  {
   "cell_type": "code",
   "execution_count": 19,
   "id": "08ef61ba",
   "metadata": {},
   "outputs": [],
   "source": [
    "dist_adj_df = pd.DataFrame(dist_adj)"
   ]
  },
  {
   "cell_type": "code",
   "execution_count": 20,
   "id": "81b46fd7",
   "metadata": {},
   "outputs": [],
   "source": [
    "from sklearn.model_selection import train_test_split"
   ]
  },
  {
   "cell_type": "code",
   "execution_count": 21,
   "id": "edff9515",
   "metadata": {},
   "outputs": [],
   "source": [
    "#Model is based on distances to 12 randomly chosen \"anchor\" samples\n",
    "s = pd.Series(np.arange(7000))\n",
    "anchors = s.sample(n=12,random_state=5)"
   ]
  },
  {
   "cell_type": "code",
   "execution_count": 22,
   "id": "84558e4d",
   "metadata": {},
   "outputs": [],
   "source": [
    "anchor_indices = list(anchors)"
   ]
  },
  {
   "cell_type": "code",
   "execution_count": 23,
   "id": "607c1a8a",
   "metadata": {},
   "outputs": [],
   "source": [
    "#Split Model Owner's samples into his own training and test set for validation\n",
    "X_train, X_test, y_train, y_test = train_test_split(dist_adj_df[anchor_indices], np.ravel(labels), test_size=0.15, random_state=5)"
   ]
  },
  {
   "cell_type": "code",
   "execution_count": 24,
   "id": "3c8198e3",
   "metadata": {},
   "outputs": [],
   "source": [
    "from sklearn.linear_model import LogisticRegression"
   ]
  },
  {
   "cell_type": "code",
   "execution_count": 25,
   "id": "31812c7b",
   "metadata": {},
   "outputs": [
    {
     "data": {
      "text/html": [
       "<style>#sk-container-id-1 {color: black;background-color: white;}#sk-container-id-1 pre{padding: 0;}#sk-container-id-1 div.sk-toggleable {background-color: white;}#sk-container-id-1 label.sk-toggleable__label {cursor: pointer;display: block;width: 100%;margin-bottom: 0;padding: 0.3em;box-sizing: border-box;text-align: center;}#sk-container-id-1 label.sk-toggleable__label-arrow:before {content: \"▸\";float: left;margin-right: 0.25em;color: #696969;}#sk-container-id-1 label.sk-toggleable__label-arrow:hover:before {color: black;}#sk-container-id-1 div.sk-estimator:hover label.sk-toggleable__label-arrow:before {color: black;}#sk-container-id-1 div.sk-toggleable__content {max-height: 0;max-width: 0;overflow: hidden;text-align: left;background-color: #f0f8ff;}#sk-container-id-1 div.sk-toggleable__content pre {margin: 0.2em;color: black;border-radius: 0.25em;background-color: #f0f8ff;}#sk-container-id-1 input.sk-toggleable__control:checked~div.sk-toggleable__content {max-height: 200px;max-width: 100%;overflow: auto;}#sk-container-id-1 input.sk-toggleable__control:checked~label.sk-toggleable__label-arrow:before {content: \"▾\";}#sk-container-id-1 div.sk-estimator input.sk-toggleable__control:checked~label.sk-toggleable__label {background-color: #d4ebff;}#sk-container-id-1 div.sk-label input.sk-toggleable__control:checked~label.sk-toggleable__label {background-color: #d4ebff;}#sk-container-id-1 input.sk-hidden--visually {border: 0;clip: rect(1px 1px 1px 1px);clip: rect(1px, 1px, 1px, 1px);height: 1px;margin: -1px;overflow: hidden;padding: 0;position: absolute;width: 1px;}#sk-container-id-1 div.sk-estimator {font-family: monospace;background-color: #f0f8ff;border: 1px dotted black;border-radius: 0.25em;box-sizing: border-box;margin-bottom: 0.5em;}#sk-container-id-1 div.sk-estimator:hover {background-color: #d4ebff;}#sk-container-id-1 div.sk-parallel-item::after {content: \"\";width: 100%;border-bottom: 1px solid gray;flex-grow: 1;}#sk-container-id-1 div.sk-label:hover label.sk-toggleable__label {background-color: #d4ebff;}#sk-container-id-1 div.sk-serial::before {content: \"\";position: absolute;border-left: 1px solid gray;box-sizing: border-box;top: 0;bottom: 0;left: 50%;z-index: 0;}#sk-container-id-1 div.sk-serial {display: flex;flex-direction: column;align-items: center;background-color: white;padding-right: 0.2em;padding-left: 0.2em;position: relative;}#sk-container-id-1 div.sk-item {position: relative;z-index: 1;}#sk-container-id-1 div.sk-parallel {display: flex;align-items: stretch;justify-content: center;background-color: white;position: relative;}#sk-container-id-1 div.sk-item::before, #sk-container-id-1 div.sk-parallel-item::before {content: \"\";position: absolute;border-left: 1px solid gray;box-sizing: border-box;top: 0;bottom: 0;left: 50%;z-index: -1;}#sk-container-id-1 div.sk-parallel-item {display: flex;flex-direction: column;z-index: 1;position: relative;background-color: white;}#sk-container-id-1 div.sk-parallel-item:first-child::after {align-self: flex-end;width: 50%;}#sk-container-id-1 div.sk-parallel-item:last-child::after {align-self: flex-start;width: 50%;}#sk-container-id-1 div.sk-parallel-item:only-child::after {width: 0;}#sk-container-id-1 div.sk-dashed-wrapped {border: 1px dashed gray;margin: 0 0.4em 0.5em 0.4em;box-sizing: border-box;padding-bottom: 0.4em;background-color: white;}#sk-container-id-1 div.sk-label label {font-family: monospace;font-weight: bold;display: inline-block;line-height: 1.2em;}#sk-container-id-1 div.sk-label-container {text-align: center;}#sk-container-id-1 div.sk-container {/* jupyter's `normalize.less` sets `[hidden] { display: none; }` but bootstrap.min.css set `[hidden] { display: none !important; }` so we also need the `!important` here to be able to override the default hidden behavior on the sphinx rendered scikit-learn.org. See: https://github.com/scikit-learn/scikit-learn/issues/21755 */display: inline-block !important;position: relative;}#sk-container-id-1 div.sk-text-repr-fallback {display: none;}</style><div id=\"sk-container-id-1\" class=\"sk-top-container\"><div class=\"sk-text-repr-fallback\"><pre>LogisticRegression(fit_intercept=False)</pre><b>In a Jupyter environment, please rerun this cell to show the HTML representation or trust the notebook. <br />On GitHub, the HTML representation is unable to render, please try loading this page with nbviewer.org.</b></div><div class=\"sk-container\" hidden><div class=\"sk-item\"><div class=\"sk-estimator sk-toggleable\"><input class=\"sk-toggleable__control sk-hidden--visually\" id=\"sk-estimator-id-1\" type=\"checkbox\" checked><label for=\"sk-estimator-id-1\" class=\"sk-toggleable__label sk-toggleable__label-arrow\">LogisticRegression</label><div class=\"sk-toggleable__content\"><pre>LogisticRegression(fit_intercept=False)</pre></div></div></div></div></div>"
      ],
      "text/plain": [
       "LogisticRegression(fit_intercept=False)"
      ]
     },
     "execution_count": 25,
     "metadata": {},
     "output_type": "execute_result"
    }
   ],
   "source": [
    "#MODEL OWNER (TRAINING)\n",
    "#Fit a logistic regression model based on distances to anchors.\n",
    "logmodel = LogisticRegression(fit_intercept=False)\n",
    "logmodel.fit(X_train,y_train)"
   ]
  },
  {
   "cell_type": "code",
   "execution_count": 26,
   "id": "fd88bc42",
   "metadata": {},
   "outputs": [],
   "source": [
    "predictions = logmodel.predict(X_test)"
   ]
  },
  {
   "cell_type": "code",
   "execution_count": 27,
   "id": "f1154ae9",
   "metadata": {},
   "outputs": [
    {
     "data": {
      "text/plain": [
       "array([[  5.43974723, -15.02166543,   2.78984704,   1.99256145,\n",
       "        -14.47090074,   3.06847974,   5.24434058,   7.85728243,\n",
       "          3.23179063,   3.52720856,   1.89763237, -15.16417593],\n",
       "       [  2.46982149,   3.36897251,   2.49672168,   2.71961521,\n",
       "          2.78991414,   1.25296675,   3.95220266, -26.31605872,\n",
       "          1.2336723 ,   2.689248  ,   2.0780412 ,   3.27154734],\n",
       "       [  8.97121496,   7.15200835,  -9.40678271,  -8.63111932,\n",
       "          6.55442948,  -8.11627411,   8.21014897,  10.81189313,\n",
       "         -8.9084891 ,  -8.78836865,  -8.43533281,   7.10049217],\n",
       "       [-16.88078369,   4.50068458,   4.120214  ,   3.91894266,\n",
       "          5.12655711,   3.79482761, -17.4066922 ,   7.64688317,\n",
       "          4.44302617,   2.57191209,   4.45965925,   4.79213642]])"
      ]
     },
     "execution_count": 27,
     "metadata": {},
     "output_type": "execute_result"
    }
   ],
   "source": [
    "#The 4*12 matrix of coefficients of the model. \n",
    "#This is the IP the Model Owner wishes to protect\n",
    "logmodel.coef_"
   ]
  },
  {
   "cell_type": "code",
   "execution_count": 28,
   "id": "3853ab61",
   "metadata": {},
   "outputs": [],
   "source": [
    "from sklearn.metrics import classification_report,confusion_matrix"
   ]
  },
  {
   "cell_type": "code",
   "execution_count": 29,
   "id": "664681b7",
   "metadata": {},
   "outputs": [
    {
     "name": "stdout",
     "output_type": "stream",
     "text": [
      "[[263   0   0   1]\n",
      " [  0 265   0   0]\n",
      " [  0   0 252   0]\n",
      " [  0   0   0 269]]\n"
     ]
    }
   ],
   "source": [
    "#Validate the model on a test set (not the Data Owner's test set)\n",
    "print(confusion_matrix(y_test,predictions))"
   ]
  },
  {
   "cell_type": "code",
   "execution_count": 30,
   "id": "677680fd",
   "metadata": {},
   "outputs": [],
   "source": [
    "#Save model data for Model Owner's use in Step 3\n",
    "\n",
    "logmodel.classes_.dump('1/private/logmodel_classes.dump')\n",
    "logmodel.intercept_.dump('1/private/logmodel_intercept.dump')\n",
    "logmodel.coef_.dump('1/private/logmodel_coef.dump')\n",
    "\n",
    "\n",
    "#Save test sketches for Data Owner in Step 2\n",
    "#In real situation, Data Owner would hold these from the start\n",
    "\n",
    "pickle.dump(test_sketches, open('1/public/test_sketches.dump','wb'))\n",
    "\n",
    "#Data below isn't used again.\n",
    "\n",
    "#pickle.dump(sketches, open('sketches.dump','wb'))\n",
    "#pickle.dump(anchor_indices, open('anchor_indices.dump', 'wb'))\n",
    "#data_df.to_pickle('data_df.dump')\n",
    "#test_samples.to_pickle('test_samples.dump')"
   ]
  },
  {
   "cell_type": "code",
   "execution_count": 31,
   "id": "a58502d3",
   "metadata": {},
   "outputs": [
    {
     "data": {
      "text/html": [
       "<div>\n",
       "<style scoped>\n",
       "    .dataframe tbody tr th:only-of-type {\n",
       "        vertical-align: middle;\n",
       "    }\n",
       "\n",
       "    .dataframe tbody tr th {\n",
       "        vertical-align: top;\n",
       "    }\n",
       "\n",
       "    .dataframe thead th {\n",
       "        text-align: right;\n",
       "    }\n",
       "</style>\n",
       "<table border=\"1\" class=\"dataframe\">\n",
       "  <thead>\n",
       "    <tr style=\"text-align: right;\">\n",
       "      <th></th>\n",
       "      <th>0</th>\n",
       "    </tr>\n",
       "  </thead>\n",
       "  <tbody>\n",
       "    <tr>\n",
       "      <th>4187</th>\n",
       "      <td>&lt;sourmash.minhash.MinHash object at 0x7fb0f377...</td>\n",
       "    </tr>\n",
       "    <tr>\n",
       "      <th>5538</th>\n",
       "      <td>&lt;sourmash.minhash.MinHash object at 0x7fb0f36b...</td>\n",
       "    </tr>\n",
       "    <tr>\n",
       "      <th>141</th>\n",
       "      <td>&lt;sourmash.minhash.MinHash object at 0x7fb0f39e...</td>\n",
       "    </tr>\n",
       "    <tr>\n",
       "      <th>9</th>\n",
       "      <td>&lt;sourmash.minhash.MinHash object at 0x7fb0f39d...</td>\n",
       "    </tr>\n",
       "    <tr>\n",
       "      <th>5350</th>\n",
       "      <td>&lt;sourmash.minhash.MinHash object at 0x7fb0f373...</td>\n",
       "    </tr>\n",
       "    <tr>\n",
       "      <th>27</th>\n",
       "      <td>&lt;sourmash.minhash.MinHash object at 0x7fb0f39d...</td>\n",
       "    </tr>\n",
       "    <tr>\n",
       "      <th>4438</th>\n",
       "      <td>&lt;sourmash.minhash.MinHash object at 0x7fb0f370...</td>\n",
       "    </tr>\n",
       "    <tr>\n",
       "      <th>3291</th>\n",
       "      <td>&lt;sourmash.minhash.MinHash object at 0x7fb0f374...</td>\n",
       "    </tr>\n",
       "    <tr>\n",
       "      <th>735</th>\n",
       "      <td>&lt;sourmash.minhash.MinHash object at 0x7fb0f37c...</td>\n",
       "    </tr>\n",
       "    <tr>\n",
       "      <th>960</th>\n",
       "      <td>&lt;sourmash.minhash.MinHash object at 0x7fb0f37c...</td>\n",
       "    </tr>\n",
       "    <tr>\n",
       "      <th>40</th>\n",
       "      <td>&lt;sourmash.minhash.MinHash object at 0x7fb0f39d...</td>\n",
       "    </tr>\n",
       "    <tr>\n",
       "      <th>5735</th>\n",
       "      <td>&lt;sourmash.minhash.MinHash object at 0x7fb0f36c...</td>\n",
       "    </tr>\n",
       "  </tbody>\n",
       "</table>\n",
       "</div>"
      ],
      "text/plain": [
       "                                                      0\n",
       "4187  <sourmash.minhash.MinHash object at 0x7fb0f377...\n",
       "5538  <sourmash.minhash.MinHash object at 0x7fb0f36b...\n",
       "141   <sourmash.minhash.MinHash object at 0x7fb0f39e...\n",
       "9     <sourmash.minhash.MinHash object at 0x7fb0f39d...\n",
       "5350  <sourmash.minhash.MinHash object at 0x7fb0f373...\n",
       "27    <sourmash.minhash.MinHash object at 0x7fb0f39d...\n",
       "4438  <sourmash.minhash.MinHash object at 0x7fb0f370...\n",
       "3291  <sourmash.minhash.MinHash object at 0x7fb0f374...\n",
       "735   <sourmash.minhash.MinHash object at 0x7fb0f37c...\n",
       "960   <sourmash.minhash.MinHash object at 0x7fb0f37c...\n",
       "40    <sourmash.minhash.MinHash object at 0x7fb0f39d...\n",
       "5735  <sourmash.minhash.MinHash object at 0x7fb0f36c..."
      ]
     },
     "execution_count": 31,
     "metadata": {},
     "output_type": "execute_result"
    }
   ],
   "source": [
    "anchor_sketches = sketches_df.iloc[anchor_indices]\n",
    "anchor_sketches"
   ]
  },
  {
   "cell_type": "code",
   "execution_count": 32,
   "id": "02b966e6",
   "metadata": {},
   "outputs": [
    {
     "data": {
      "text/html": [
       "<div>\n",
       "<style scoped>\n",
       "    .dataframe tbody tr th:only-of-type {\n",
       "        vertical-align: middle;\n",
       "    }\n",
       "\n",
       "    .dataframe tbody tr th {\n",
       "        vertical-align: top;\n",
       "    }\n",
       "\n",
       "    .dataframe thead th {\n",
       "        text-align: right;\n",
       "    }\n",
       "</style>\n",
       "<table border=\"1\" class=\"dataframe\">\n",
       "  <thead>\n",
       "    <tr style=\"text-align: right;\">\n",
       "      <th></th>\n",
       "      <th>0</th>\n",
       "    </tr>\n",
       "  </thead>\n",
       "  <tbody>\n",
       "    <tr>\n",
       "      <th>7289</th>\n",
       "      <td>&lt;sourmash.minhash.MinHash object at 0x7fb0f369...</td>\n",
       "    </tr>\n",
       "    <tr>\n",
       "      <th>5447</th>\n",
       "      <td>&lt;sourmash.minhash.MinHash object at 0x7fb0f373...</td>\n",
       "    </tr>\n",
       "    <tr>\n",
       "      <th>5159</th>\n",
       "      <td>&lt;sourmash.minhash.MinHash object at 0x7fb0f372...</td>\n",
       "    </tr>\n",
       "    <tr>\n",
       "      <th>3020</th>\n",
       "      <td>&lt;sourmash.minhash.MinHash object at 0x7fb0f37b...</td>\n",
       "    </tr>\n",
       "    <tr>\n",
       "      <th>1866</th>\n",
       "      <td>&lt;sourmash.minhash.MinHash object at 0x7fb0f377...</td>\n",
       "    </tr>\n",
       "    <tr>\n",
       "      <th>...</th>\n",
       "      <td>...</td>\n",
       "    </tr>\n",
       "    <tr>\n",
       "      <th>4280</th>\n",
       "      <td>&lt;sourmash.minhash.MinHash object at 0x7fb0f36f...</td>\n",
       "    </tr>\n",
       "    <tr>\n",
       "      <th>2146</th>\n",
       "      <td>&lt;sourmash.minhash.MinHash object at 0x7fb0f378...</td>\n",
       "    </tr>\n",
       "    <tr>\n",
       "      <th>6111</th>\n",
       "      <td>&lt;sourmash.minhash.MinHash object at 0x7fb0f36d...</td>\n",
       "    </tr>\n",
       "    <tr>\n",
       "      <th>1724</th>\n",
       "      <td>&lt;sourmash.minhash.MinHash object at 0x7fb0f37f...</td>\n",
       "    </tr>\n",
       "    <tr>\n",
       "      <th>6194</th>\n",
       "      <td>&lt;sourmash.minhash.MinHash object at 0x7fb0f36d...</td>\n",
       "    </tr>\n",
       "  </tbody>\n",
       "</table>\n",
       "<p>1000 rows × 1 columns</p>\n",
       "</div>"
      ],
      "text/plain": [
       "                                                      0\n",
       "7289  <sourmash.minhash.MinHash object at 0x7fb0f369...\n",
       "5447  <sourmash.minhash.MinHash object at 0x7fb0f373...\n",
       "5159  <sourmash.minhash.MinHash object at 0x7fb0f372...\n",
       "3020  <sourmash.minhash.MinHash object at 0x7fb0f37b...\n",
       "1866  <sourmash.minhash.MinHash object at 0x7fb0f377...\n",
       "...                                                 ...\n",
       "4280  <sourmash.minhash.MinHash object at 0x7fb0f36f...\n",
       "2146  <sourmash.minhash.MinHash object at 0x7fb0f378...\n",
       "6111  <sourmash.minhash.MinHash object at 0x7fb0f36d...\n",
       "1724  <sourmash.minhash.MinHash object at 0x7fb0f37f...\n",
       "6194  <sourmash.minhash.MinHash object at 0x7fb0f36d...\n",
       "\n",
       "[1000 rows x 1 columns]"
      ]
     },
     "execution_count": 32,
     "metadata": {},
     "output_type": "execute_result"
    }
   ],
   "source": [
    "test_sketches"
   ]
  },
  {
   "cell_type": "code",
   "execution_count": 33,
   "id": "015cc6d1",
   "metadata": {},
   "outputs": [],
   "source": [
    "#Save anchor sketches to send to Data Owner in Step 2\n",
    "\n",
    "pickle.dump(anchor_sketches, open('1/public/anchor_sketches.dump','wb'))"
   ]
  }
 ],
 "metadata": {
  "kernelspec": {
   "display_name": "Python 3 (ipykernel)",
   "language": "python",
   "name": "python3"
  },
  "language_info": {
   "codemirror_mode": {
    "name": "ipython",
    "version": 3
   },
   "file_extension": ".py",
   "mimetype": "text/x-python",
   "name": "python",
   "nbconvert_exporter": "python",
   "pygments_lexer": "ipython3",
   "version": "3.9.7"
  }
 },
 "nbformat": 4,
 "nbformat_minor": 5
}
