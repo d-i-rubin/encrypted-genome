{
 "cells": [
  {
   "cell_type": "code",
   "execution_count": 1,
   "id": "6fda622b",
   "metadata": {},
   "outputs": [],
   "source": [
    "import pickle"
   ]
  },
  {
   "cell_type": "code",
   "execution_count": 2,
   "id": "ab7694d0",
   "metadata": {},
   "outputs": [],
   "source": [
    "#Import necessary libraries\n",
    "\n",
    "import numpy as np\n",
    "import pandas as pd\n",
    "import seal\n",
    "from seal import *\n",
    "import sourmash as smsh\n",
    "import time\n",
    "import matplotlib.pyplot as plt"
   ]
  },
  {
   "cell_type": "code",
   "execution_count": 3,
   "id": "c55af671",
   "metadata": {},
   "outputs": [],
   "source": [
    "#Load 8000 labelled samples, comprising training and test data\n",
    "def load_data():\n",
    "    with open(\"Challenge.fa\", \"r\") as f:\n",
    "        data = f.readlines()\n",
    "\n",
    "    labels = []\n",
    "    sequences = []\n",
    "    lengths = []\n",
    "    for k in range(len(data)):\n",
    "        if k % 2 == 0:\n",
    "            labels.append(data[k])\n",
    "        else:\n",
    "            seq = data[k].strip()\n",
    "            lengths.append(len(seq))\n",
    "            sequences.append(seq)\n",
    "\n",
    "    # uniformize lengths by filling in with N's\n",
    "    #max_length = max(lengths)\n",
    "    #for i in range(len(sequences)):\n",
    "        #padding_size = max_length - len(sequences[i])\n",
    "        #for j in range(padding_size):\n",
    "            #sequences[i] += \"N\"\n",
    "\n",
    "\n",
    "    types = [\">B.1.526\", \">B.1.1.7\", \">B.1.427\", \">P.1\"]\n",
    "\n",
    "    dataframe = []\n",
    "\n",
    "    for i in range(len(labels)):\n",
    "        entry = []\n",
    "        # 2021/08/02: re-replaced use of match-case (Python 3.10) for backwards compatibility\n",
    "        for j in range(len(types)):\n",
    "            if labels[i].startswith(types[j]):\n",
    "                entry.append(j)\n",
    "                virus_number = labels[i].split(\"_\")[1].strip()\n",
    "                entry.append(virus_number)\n",
    "                entry.append(sequences[i])\n",
    "                break\n",
    "\n",
    "            if j == 3:\n",
    "                raise \"Bad entry\"\n",
    "\n",
    "        dataframe.append(entry)\n",
    "\n",
    "    return dataframe"
   ]
  },
  {
   "cell_type": "code",
   "execution_count": 4,
   "id": "aec71dd9",
   "metadata": {},
   "outputs": [],
   "source": [
    "data = load_data()"
   ]
  },
  {
   "cell_type": "code",
   "execution_count": 5,
   "id": "fdd4768b",
   "metadata": {},
   "outputs": [],
   "source": [
    "data_df = pd.DataFrame(data)\n",
    "labels = data_df[:][0]"
   ]
  },
  {
   "cell_type": "code",
   "execution_count": 6,
   "id": "887cc219",
   "metadata": {},
   "outputs": [],
   "source": [
    "base_dict = {0:'A',1:'C',2:'G',3:'T'}"
   ]
  },
  {
   "cell_type": "code",
   "execution_count": 7,
   "id": "fabbd235",
   "metadata": {},
   "outputs": [
    {
     "name": "stdout",
     "output_type": "stream",
     "text": [
      "Time to Replace unknowns: 126.632s\n"
     ]
    }
   ],
   "source": [
    "#Key preprocessing step:\n",
    "#Replace all non-ACTG characters with an ACTG chosen uniformly at random.\n",
    "start = time.time()\n",
    "data_Nrand = []\n",
    "\n",
    "for i in range(len(data)):\n",
    "    string_mod = ''\n",
    "    for j in range(len(data[i][2])):\n",
    "        if data[i][2][j]=='A' or data[i][2][j]=='C' or data[i][2][j]=='G' or data[i][2][j]=='T':\n",
    "            string_mod += data[i][2][j]\n",
    "        else:\n",
    "            string_mod+= base_dict[np.random.randint(0,4)]\n",
    "    data_Nrand.append([data[i][0],data[i][1],string_mod])\n",
    "    \n",
    "end = time.time()\n",
    "print(f'Time to Replace unknowns: {(end-start):.3f}s')"
   ]
  },
  {
   "cell_type": "code",
   "execution_count": 8,
   "id": "d44b496a",
   "metadata": {},
   "outputs": [
    {
     "name": "stdout",
     "output_type": "stream",
     "text": [
      "Time to form sketches: 37.683s\n"
     ]
    }
   ],
   "source": [
    "#These are the sketch parameters that I settled on. Form sketches of all samples.\n",
    "start = time.time()\n",
    "sketches = []\n",
    "N = 5000\n",
    "K = 33\n",
    "\n",
    "for i in range(len(data_Nrand)):\n",
    "    mh = smsh.MinHash(n=N,ksize=K)\n",
    "    mh.add_sequence(data_Nrand[i][2])\n",
    "    sketches.append(mh)\n",
    "    \n",
    "end = time.time()\n",
    "print(f'Time to form sketches: {(end-start):.3f}s')"
   ]
  },
  {
   "cell_type": "code",
   "execution_count": 8,
   "id": "23d4a1a9",
   "metadata": {},
   "outputs": [
    {
     "data": {
      "text/plain": [
       "7289    7289\n",
       "5447    5447\n",
       "5159    5159\n",
       "3020    3020\n",
       "1866    1866\n",
       "        ... \n",
       "4280    4280\n",
       "2146    2146\n",
       "6111    6111\n",
       "1724    1724\n",
       "6194    6194\n",
       "Length: 1000, dtype: int64"
      ]
     },
     "execution_count": 8,
     "metadata": {},
     "output_type": "execute_result"
    }
   ],
   "source": [
    "#Set aside 1000 samples as test set held by data owner.\n",
    "s= pd.Series(np.arange(8000))\n",
    "test_samples = s.sample(n=1000, random_state = 101)\n",
    "test_samples"
   ]
  },
  {
   "cell_type": "code",
   "execution_count": 10,
   "id": "45428542",
   "metadata": {},
   "outputs": [],
   "source": [
    "sketches_df = pd.DataFrame(sketches)\n",
    "test_sketches = sketches_df.iloc[list(test_samples)]"
   ]
  },
  {
   "cell_type": "code",
   "execution_count": 9,
   "id": "b02355f4",
   "metadata": {},
   "outputs": [
    {
     "data": {
      "text/plain": [
       "7289    0\n",
       "5447    3\n",
       "5159    3\n",
       "3020    1\n",
       "1866    2\n",
       "       ..\n",
       "4280    3\n",
       "2146    1\n",
       "6111    0\n",
       "1724    2\n",
       "6194    0\n",
       "Name: 0, Length: 1000, dtype: int64"
      ]
     },
     "execution_count": 9,
     "metadata": {},
     "output_type": "execute_result"
    }
   ],
   "source": [
    "test_labels = labels[list(test_samples)]\n",
    "test_labels"
   ]
  },
  {
   "cell_type": "code",
   "execution_count": 11,
   "id": "e6d48c7a",
   "metadata": {},
   "outputs": [],
   "source": [
    "#Save test labels for Data Owner to access in Step 4.\n",
    "#In real situation these would not be accessible to Model Owner.\n",
    "\n",
    "test_labels.to_pickle('data_owner_labels')"
   ]
  },
  {
   "cell_type": "code",
   "execution_count": 11,
   "id": "fa137dbb",
   "metadata": {},
   "outputs": [],
   "source": [
    "test_indices = list(test_samples)\n",
    "test_indices.sort(reverse=True)"
   ]
  },
  {
   "cell_type": "code",
   "execution_count": 12,
   "id": "98596003",
   "metadata": {},
   "outputs": [],
   "source": [
    "#Hold test sketches aside from training set.\n",
    "for i in range(len(test_indices)):\n",
    "    sketches.pop(test_indices[i])"
   ]
  },
  {
   "cell_type": "code",
   "execution_count": 13,
   "id": "38306c49",
   "metadata": {},
   "outputs": [],
   "source": [
    "#Remove test labels\n",
    "for i in range(len(test_indices)):\n",
    "    labels.pop(test_indices[i])"
   ]
  },
  {
   "cell_type": "code",
   "execution_count": 14,
   "id": "5d464cf4",
   "metadata": {},
   "outputs": [
    {
     "name": "stdout",
     "output_type": "stream",
     "text": [
      "Time to compute similarities between all training sketches: 4610.299s\n"
     ]
    }
   ],
   "source": [
    "#MODEL OWNER (TRAINING)\n",
    "#Compute full matrix of Jaccard similarities. Takes a long time.\n",
    "start = time.time()\n",
    "jacc_sim = np.zeros((7000,7000))\n",
    "\n",
    "for i in range(len(sketches)):\n",
    "    #print(i)\n",
    "    for j in range(i+1,len(sketches)):\n",
    "        jacc_sim[i,j] = round(sketches[i].jaccard(sketches[j]),4)\n",
    "        \n",
    "end = time.time()\n",
    "print(f'Time to compute similarities between all training sketches: {(end-start):.3f}s')"
   ]
  },
  {
   "cell_type": "code",
   "execution_count": 16,
   "id": "3b50906f",
   "metadata": {},
   "outputs": [
    {
     "name": "stdout",
     "output_type": "stream",
     "text": [
      "Time to compute training distances: 102.545s\n"
     ]
    }
   ],
   "source": [
    "#Turn Jaccard similarities into matrix of distances.\n",
    "start = time.time()\n",
    "dist_adj = np.zeros((7000,7000))\n",
    "\n",
    "for i in range(7000):\n",
    "    #print(i)\n",
    "    for j in range(i+1,7000):\n",
    "        dist_adj[i,j] = -np.log(2*jacc_sim[i,j])+np.log(1+jacc_sim[i,j])\n",
    "        dist_adj[j,i] = dist_adj[i,j]\n",
    "        \n",
    "end = time.time()\n",
    "print(f'Time to compute training distances: {(end-start):.3f}s')"
   ]
  },
  {
   "cell_type": "code",
   "execution_count": 17,
   "id": "08ef61ba",
   "metadata": {},
   "outputs": [],
   "source": [
    "dist_adj_df = pd.DataFrame(dist_adj)"
   ]
  },
  {
   "cell_type": "code",
   "execution_count": 18,
   "id": "81b46fd7",
   "metadata": {},
   "outputs": [],
   "source": [
    "from sklearn.model_selection import train_test_split"
   ]
  },
  {
   "cell_type": "code",
   "execution_count": 19,
   "id": "edff9515",
   "metadata": {},
   "outputs": [],
   "source": [
    "#Model is based on distances to 12 randomly chosen \"anchor\" samples\n",
    "s = pd.Series(np.arange(7000))\n",
    "anchors = s.sample(n=12,random_state=5)"
   ]
  },
  {
   "cell_type": "code",
   "execution_count": 20,
   "id": "84558e4d",
   "metadata": {},
   "outputs": [],
   "source": [
    "anchor_indices = list(anchors)"
   ]
  },
  {
   "cell_type": "code",
   "execution_count": 21,
   "id": "607c1a8a",
   "metadata": {},
   "outputs": [],
   "source": [
    "#Split Model Owner's samples into his own training and test set for validation\n",
    "X_train, X_test, y_train, y_test = train_test_split(dist_adj_df[anchor_indices], np.ravel(labels), test_size=0.15, random_state=5)"
   ]
  },
  {
   "cell_type": "code",
   "execution_count": 22,
   "id": "3c8198e3",
   "metadata": {},
   "outputs": [],
   "source": [
    "from sklearn.linear_model import LogisticRegression"
   ]
  },
  {
   "cell_type": "code",
   "execution_count": 23,
   "id": "31812c7b",
   "metadata": {},
   "outputs": [
    {
     "data": {
      "text/plain": [
       "LogisticRegression(fit_intercept=False)"
      ]
     },
     "execution_count": 23,
     "metadata": {},
     "output_type": "execute_result"
    }
   ],
   "source": [
    "#MODEL OWNER (TRAINING)\n",
    "#Fit a logistic regression model based on distances to anchors.\n",
    "logmodel = LogisticRegression(fit_intercept=False)\n",
    "logmodel.fit(X_train,y_train)"
   ]
  },
  {
   "cell_type": "code",
   "execution_count": 24,
   "id": "fd88bc42",
   "metadata": {},
   "outputs": [],
   "source": [
    "predictions = logmodel.predict(X_test)"
   ]
  },
  {
   "cell_type": "code",
   "execution_count": 25,
   "id": "f1154ae9",
   "metadata": {},
   "outputs": [
    {
     "data": {
      "text/plain": [
       "array([[  5.34780467, -15.0303433 ,   2.7803143 ,   2.02359664,\n",
       "        -14.47587293,   3.09000255,   5.26324089,   7.87415749,\n",
       "          3.2890678 ,   3.5120713 ,   1.98378768, -15.17930856],\n",
       "       [  2.55429896,   3.36550033,   2.51032959,   2.74504425,\n",
       "          2.78878523,   1.22940156,   3.92857415, -26.31853051,\n",
       "          1.24554117,   2.67423688,   2.00455739,   3.26833358],\n",
       "       [  9.04437978,   7.16669411,  -9.40140473,  -8.66478166,\n",
       "          6.56027444,  -8.09806074,   8.2587428 ,  10.8551519 ,\n",
       "         -8.94915775,  -8.6965517 ,  -8.37131341,   7.1085428 ],\n",
       "       [-16.94648342,   4.49814887,   4.11076085,   3.89614077,\n",
       "          5.12681326,   3.77865663, -17.45055784,   7.58922112,\n",
       "          4.41454878,   2.51024351,   4.38296834,   4.80243218]])"
      ]
     },
     "execution_count": 25,
     "metadata": {},
     "output_type": "execute_result"
    }
   ],
   "source": [
    "#The 4*12 matrix of coefficients of the model. \n",
    "#This is the IP the Model Owner wishes to protect\n",
    "logmodel.coef_"
   ]
  },
  {
   "cell_type": "code",
   "execution_count": 26,
   "id": "3853ab61",
   "metadata": {},
   "outputs": [],
   "source": [
    "from sklearn.metrics import classification_report,confusion_matrix"
   ]
  },
  {
   "cell_type": "code",
   "execution_count": 27,
   "id": "664681b7",
   "metadata": {},
   "outputs": [
    {
     "name": "stdout",
     "output_type": "stream",
     "text": [
      "[[263   0   0   1]\n",
      " [  0 265   0   0]\n",
      " [  0   0 252   0]\n",
      " [  0   0   0 269]]\n"
     ]
    }
   ],
   "source": [
    "#Validate the model on a test set (not the Data Owner's test set)\n",
    "print(confusion_matrix(y_test,predictions))"
   ]
  },
  {
   "cell_type": "code",
   "execution_count": 28,
   "id": "677680fd",
   "metadata": {},
   "outputs": [],
   "source": [
    "#Save model data for Model Owner's use in Step 3\n",
    "\n",
    "logmodel.classes_.dump('logmodel_classes.dump')\n",
    "logmodel.intercept_.dump('logmodel_intercept.dump')\n",
    "logmodel.coef_.dump('logmodel_coef.dump')\n",
    "\n",
    "\n",
    "#Save test sketches for Data Owner in Step 2\n",
    "#In real situation, Data Owner would hold these from the start\n",
    "\n",
    "pickle.dump(test_sketches, open('test_sketches.dump','wb'))\n",
    "\n",
    "#Data below isn't used again.\n",
    "\n",
    "#pickle.dump(sketches, open('sketches.dump','wb'))\n",
    "#pickle.dump(anchor_indices, open('anchor_indices.dump', 'wb'))\n",
    "#data_df.to_pickle('data_df.dump')\n",
    "#test_samples.to_pickle('test_samples.dump')"
   ]
  },
  {
   "cell_type": "code",
   "execution_count": 35,
   "id": "a58502d3",
   "metadata": {},
   "outputs": [
    {
     "data": {
      "text/html": [
       "<div>\n",
       "<style scoped>\n",
       "    .dataframe tbody tr th:only-of-type {\n",
       "        vertical-align: middle;\n",
       "    }\n",
       "\n",
       "    .dataframe tbody tr th {\n",
       "        vertical-align: top;\n",
       "    }\n",
       "\n",
       "    .dataframe thead th {\n",
       "        text-align: right;\n",
       "    }\n",
       "</style>\n",
       "<table border=\"1\" class=\"dataframe\">\n",
       "  <thead>\n",
       "    <tr style=\"text-align: right;\">\n",
       "      <th></th>\n",
       "      <th>0</th>\n",
       "    </tr>\n",
       "  </thead>\n",
       "  <tbody>\n",
       "    <tr>\n",
       "      <th>4187</th>\n",
       "      <td>&lt;sourmash.minhash.MinHash object at 0x7f864431...</td>\n",
       "    </tr>\n",
       "    <tr>\n",
       "      <th>5538</th>\n",
       "      <td>&lt;sourmash.minhash.MinHash object at 0x7f86442d...</td>\n",
       "    </tr>\n",
       "    <tr>\n",
       "      <th>141</th>\n",
       "      <td>&lt;sourmash.minhash.MinHash object at 0x7f864458...</td>\n",
       "    </tr>\n",
       "    <tr>\n",
       "      <th>9</th>\n",
       "      <td>&lt;sourmash.minhash.MinHash object at 0x7f86704b...</td>\n",
       "    </tr>\n",
       "    <tr>\n",
       "      <th>5350</th>\n",
       "      <td>&lt;sourmash.minhash.MinHash object at 0x7f86442d...</td>\n",
       "    </tr>\n",
       "    <tr>\n",
       "      <th>27</th>\n",
       "      <td>&lt;sourmash.minhash.MinHash object at 0x7f86445b...</td>\n",
       "    </tr>\n",
       "    <tr>\n",
       "      <th>4438</th>\n",
       "      <td>&lt;sourmash.minhash.MinHash object at 0x7f864432...</td>\n",
       "    </tr>\n",
       "    <tr>\n",
       "      <th>3291</th>\n",
       "      <td>&lt;sourmash.minhash.MinHash object at 0x7f864436...</td>\n",
       "    </tr>\n",
       "    <tr>\n",
       "      <th>735</th>\n",
       "      <td>&lt;sourmash.minhash.MinHash object at 0x7f86445a...</td>\n",
       "    </tr>\n",
       "    <tr>\n",
       "      <th>960</th>\n",
       "      <td>&lt;sourmash.minhash.MinHash object at 0x7f86445b...</td>\n",
       "    </tr>\n",
       "    <tr>\n",
       "      <th>40</th>\n",
       "      <td>&lt;sourmash.minhash.MinHash object at 0x7f86445b...</td>\n",
       "    </tr>\n",
       "    <tr>\n",
       "      <th>5735</th>\n",
       "      <td>&lt;sourmash.minhash.MinHash object at 0x7f86442e...</td>\n",
       "    </tr>\n",
       "  </tbody>\n",
       "</table>\n",
       "</div>"
      ],
      "text/plain": [
       "                                                      0\n",
       "4187  <sourmash.minhash.MinHash object at 0x7f864431...\n",
       "5538  <sourmash.minhash.MinHash object at 0x7f86442d...\n",
       "141   <sourmash.minhash.MinHash object at 0x7f864458...\n",
       "9     <sourmash.minhash.MinHash object at 0x7f86704b...\n",
       "5350  <sourmash.minhash.MinHash object at 0x7f86442d...\n",
       "27    <sourmash.minhash.MinHash object at 0x7f86445b...\n",
       "4438  <sourmash.minhash.MinHash object at 0x7f864432...\n",
       "3291  <sourmash.minhash.MinHash object at 0x7f864436...\n",
       "735   <sourmash.minhash.MinHash object at 0x7f86445a...\n",
       "960   <sourmash.minhash.MinHash object at 0x7f86445b...\n",
       "40    <sourmash.minhash.MinHash object at 0x7f86445b...\n",
       "5735  <sourmash.minhash.MinHash object at 0x7f86442e..."
      ]
     },
     "execution_count": 35,
     "metadata": {},
     "output_type": "execute_result"
    }
   ],
   "source": [
    "anchor_sketches = sketches_df.iloc[anchor_indices]\n",
    "anchor_sketches"
   ]
  },
  {
   "cell_type": "code",
   "execution_count": 36,
   "id": "02b966e6",
   "metadata": {},
   "outputs": [
    {
     "data": {
      "text/html": [
       "<div>\n",
       "<style scoped>\n",
       "    .dataframe tbody tr th:only-of-type {\n",
       "        vertical-align: middle;\n",
       "    }\n",
       "\n",
       "    .dataframe tbody tr th {\n",
       "        vertical-align: top;\n",
       "    }\n",
       "\n",
       "    .dataframe thead th {\n",
       "        text-align: right;\n",
       "    }\n",
       "</style>\n",
       "<table border=\"1\" class=\"dataframe\">\n",
       "  <thead>\n",
       "    <tr style=\"text-align: right;\">\n",
       "      <th></th>\n",
       "      <th>0</th>\n",
       "    </tr>\n",
       "  </thead>\n",
       "  <tbody>\n",
       "    <tr>\n",
       "      <th>7289</th>\n",
       "      <td>&lt;sourmash.minhash.MinHash object at 0x7f864423...</td>\n",
       "    </tr>\n",
       "    <tr>\n",
       "      <th>5447</th>\n",
       "      <td>&lt;sourmash.minhash.MinHash object at 0x7f86442d...</td>\n",
       "    </tr>\n",
       "    <tr>\n",
       "      <th>5159</th>\n",
       "      <td>&lt;sourmash.minhash.MinHash object at 0x7f86442c...</td>\n",
       "    </tr>\n",
       "    <tr>\n",
       "      <th>3020</th>\n",
       "      <td>&lt;sourmash.minhash.MinHash object at 0x7f864435...</td>\n",
       "    </tr>\n",
       "    <tr>\n",
       "      <th>1866</th>\n",
       "      <td>&lt;sourmash.minhash.MinHash object at 0x7f86443a...</td>\n",
       "    </tr>\n",
       "    <tr>\n",
       "      <th>...</th>\n",
       "      <td>...</td>\n",
       "    </tr>\n",
       "    <tr>\n",
       "      <th>4280</th>\n",
       "      <td>&lt;sourmash.minhash.MinHash object at 0x7f864431...</td>\n",
       "    </tr>\n",
       "    <tr>\n",
       "      <th>2146</th>\n",
       "      <td>&lt;sourmash.minhash.MinHash object at 0x7f86443a...</td>\n",
       "    </tr>\n",
       "    <tr>\n",
       "      <th>6111</th>\n",
       "      <td>&lt;sourmash.minhash.MinHash object at 0x7f864427...</td>\n",
       "    </tr>\n",
       "    <tr>\n",
       "      <th>1724</th>\n",
       "      <td>&lt;sourmash.minhash.MinHash object at 0x7f864439...</td>\n",
       "    </tr>\n",
       "    <tr>\n",
       "      <th>6194</th>\n",
       "      <td>&lt;sourmash.minhash.MinHash object at 0x7f864427...</td>\n",
       "    </tr>\n",
       "  </tbody>\n",
       "</table>\n",
       "<p>1000 rows × 1 columns</p>\n",
       "</div>"
      ],
      "text/plain": [
       "                                                      0\n",
       "7289  <sourmash.minhash.MinHash object at 0x7f864423...\n",
       "5447  <sourmash.minhash.MinHash object at 0x7f86442d...\n",
       "5159  <sourmash.minhash.MinHash object at 0x7f86442c...\n",
       "3020  <sourmash.minhash.MinHash object at 0x7f864435...\n",
       "1866  <sourmash.minhash.MinHash object at 0x7f86443a...\n",
       "...                                                 ...\n",
       "4280  <sourmash.minhash.MinHash object at 0x7f864431...\n",
       "2146  <sourmash.minhash.MinHash object at 0x7f86443a...\n",
       "6111  <sourmash.minhash.MinHash object at 0x7f864427...\n",
       "1724  <sourmash.minhash.MinHash object at 0x7f864439...\n",
       "6194  <sourmash.minhash.MinHash object at 0x7f864427...\n",
       "\n",
       "[1000 rows x 1 columns]"
      ]
     },
     "execution_count": 36,
     "metadata": {},
     "output_type": "execute_result"
    }
   ],
   "source": [
    "test_sketches"
   ]
  },
  {
   "cell_type": "code",
   "execution_count": 34,
   "id": "015cc6d1",
   "metadata": {},
   "outputs": [],
   "source": [
    "#Save anchor sketches to send to Data Owner in Step 2\n",
    "\n",
    "pickle.dump(anchor_sketches, open('anchor_sketches.dump','wb'))"
   ]
  },
  {
   "cell_type": "code",
   "execution_count": null,
   "id": "da3a5c55",
   "metadata": {},
   "outputs": [],
   "source": []
  }
 ],
 "metadata": {
  "kernelspec": {
   "display_name": "Python 3 (ipykernel)",
   "language": "python",
   "name": "python3"
  },
  "language_info": {
   "codemirror_mode": {
    "name": "ipython",
    "version": 3
   },
   "file_extension": ".py",
   "mimetype": "text/x-python",
   "name": "python",
   "nbconvert_exporter": "python",
   "pygments_lexer": "ipython3",
   "version": "3.9.5"
  }
 },
 "nbformat": 4,
 "nbformat_minor": 5
}
