{
 "cells": [
  {
   "cell_type": "code",
   "execution_count": 1,
   "id": "fb6d0df9",
   "metadata": {},
   "outputs": [],
   "source": [
    "#Import necessary libraries\n",
    "\n",
    "import numpy as np\n",
    "import pandas as pd\n",
    "import seal\n",
    "from seal import *\n",
    "import time\n",
    "import pickle"
   ]
  },
  {
   "cell_type": "code",
   "execution_count": 2,
   "id": "0f5ca69f",
   "metadata": {},
   "outputs": [],
   "source": [
    "model_coef = np.load('logmodel_coef.dump', allow_pickle=True)"
   ]
  },
  {
   "cell_type": "code",
   "execution_count": 3,
   "id": "01b632ad",
   "metadata": {},
   "outputs": [],
   "source": [
    "#Assume matr is mxn, where m divides n.\n",
    "#Returns list of m vectors, each of which is a diagonal of length n.\n",
    "\n",
    "def plain_diagonals(matr):\n",
    "    m = matr.shape[0]\n",
    "    n=matr.shape[1]\n",
    "    vecs = np.zeros((m,n))\n",
    "    for i in range(m):\n",
    "        temp = []\n",
    "        for j in range(n):\n",
    "            k = j % m\n",
    "            l = (j + i) % n\n",
    "            temp.append(matr[k][l])\n",
    "        vecs[i] = temp\n",
    "    \n",
    "    return vecs"
   ]
  },
  {
   "cell_type": "code",
   "execution_count": 4,
   "id": "2009eae0",
   "metadata": {},
   "outputs": [
    {
     "data": {
      "text/plain": [
       "array([-15.0303433 ,   2.51032959,  -8.66478166,   5.12681326,\n",
       "         3.09000255,   3.92857415,  10.8551519 ,   4.41454878,\n",
       "         3.5120713 ,   2.00455739,   7.1085428 , -16.94648342,\n",
       "         0.        ,   0.        ,   0.        ,   0.        ,\n",
       "         0.        ,   0.        ,   0.        ,   0.        ,\n",
       "         0.        ,   0.        ,   0.        ,   0.        ,\n",
       "       -15.0303433 ,   2.51032959,  -8.66478166,   5.12681326,\n",
       "         3.09000255,   3.92857415,  10.8551519 ,   4.41454878,\n",
       "         3.5120713 ,   2.00455739,   7.1085428 , -16.94648342,\n",
       "         0.        ,   0.        ,   0.        ,   0.        ,\n",
       "         0.        ,   0.        ,   0.        ,   0.        ,\n",
       "         0.        ,   0.        ,   0.        ,   0.        ])"
      ]
     },
     "execution_count": 4,
     "metadata": {},
     "output_type": "execute_result"
    }
   ],
   "source": [
    "#MODEL OWNER (offline phase)\n",
    "#Convert matrix of coefficients into appropriate form for mat-vec product under HE\n",
    "#And batch the coefficients to apply to multiple data samples at once\n",
    "diags = plain_diagonals(model_coef)\n",
    "\n",
    "batch_diags = np.zeros((4,8192))\n",
    "for i in range(0,4):\n",
    "    for j in range(0,341):\n",
    "        batch_diags[i][24*j:24*j+12] = diags[i]\n",
    "        \n",
    "batch_diags[1][:48]"
   ]
  },
  {
   "cell_type": "code",
   "execution_count": 5,
   "id": "859c94bc",
   "metadata": {},
   "outputs": [],
   "source": [
    "#MODEL OWNER offline\n",
    "#Important polynomial libraries\n",
    "import numpy.polynomial.chebyshev as C\n",
    "from numpy.polynomial import Polynomial as P"
   ]
  },
  {
   "cell_type": "code",
   "execution_count": 6,
   "id": "e2331efe",
   "metadata": {},
   "outputs": [],
   "source": [
    "#MODEL OWNER offline\n",
    "#This defines a degree 9 polynomial which is a good L-infinity approximation\n",
    "#to a threshold function at .5 on the interval [-3,3]\n",
    "#This has shown the best performance\n",
    "approx = C.Chebyshev.interpolate(lambda x: .5*np.tanh(10*(x-.5))+.5,9,domain=[-3,3]).convert(kind=P)"
   ]
  },
  {
   "cell_type": "code",
   "execution_count": 7,
   "id": "458ee730",
   "metadata": {},
   "outputs": [],
   "source": [
    "#Model Owner initializes an encryption scheme\n",
    "\n",
    "parms = EncryptionParameters(scheme_type.ckks)"
   ]
  },
  {
   "cell_type": "code",
   "execution_count": 8,
   "id": "76b795e4",
   "metadata": {},
   "outputs": [],
   "source": [
    "#Model owner loads data owner's parameters\n",
    "\n",
    "parms.load('IDASH_parms')"
   ]
  },
  {
   "cell_type": "code",
   "execution_count": 9,
   "id": "fa9637f4",
   "metadata": {},
   "outputs": [],
   "source": [
    "#MO initializes context with DO's parms\n",
    "\n",
    "context = SEALContext(parms)"
   ]
  },
  {
   "cell_type": "code",
   "execution_count": 10,
   "id": "1f4683ca",
   "metadata": {},
   "outputs": [
    {
     "name": "stdout",
     "output_type": "stream",
     "text": [
      "Number of slots: 8192\n"
     ]
    }
   ],
   "source": [
    "#Check the slot count\n",
    "\n",
    "ckks_encoder = CKKSEncoder(context)\n",
    "slot_count = ckks_encoder.slot_count()\n",
    "print(f'Number of slots: {slot_count}')"
   ]
  },
  {
   "cell_type": "code",
   "execution_count": 12,
   "id": "8b4b5329",
   "metadata": {},
   "outputs": [],
   "source": [
    "#MO initializes and loads keys and scale\n",
    "\n",
    "keygen = KeyGenerator(context)\n",
    "public_key = keygen.create_public_key()\n",
    "public_key.load(context, 'IDASH_pubkey')\n",
    "\n",
    "\n",
    "galois_keys = keygen.create_galois_keys()\n",
    "galois_keys.load(context, 'IDASH_galkeys')\n",
    "\n",
    "\n",
    "relin_keys = keygen.create_relin_keys()\n",
    "relin_keys.load(context, 'IDASH_relinkeys')\n",
    "\n",
    "scale = pickle.load(open('IDASH_scale','rb'))"
   ]
  },
  {
   "cell_type": "code",
   "execution_count": 13,
   "id": "55f6f4df",
   "metadata": {},
   "outputs": [],
   "source": [
    "def compute_logmodel_linear(ct_data,pt_diag_coeff,evaluator,galois_keys):\n",
    "    #Copy the entries of ct_data into the next 12 slots so that rotation works properly\n",
    "    ct_rot = evaluator.rotate_vector(ct_data, -12, galois_keys)\n",
    "    ct_temp = evaluator.add(ct_data, ct_rot)\n",
    "\n",
    "\n",
    "    #Evaluate pt-ct matrix-vector product.\n",
    "    temp_result = evaluator.multiply_plain(ct_data,pt_diag_coeff[0])\n",
    "\n",
    "    #pt_temp_result = decryptor.decrypt(temp_result)\n",
    "    #print(ckks_encoder.decode(pt_temp_result)[:14])\n",
    "\n",
    "    for i in range(1,4):\n",
    "        temp_data_vec = evaluator.rotate_vector(ct_temp,i,galois_keys)\n",
    "        evaluator.multiply_plain_inplace(temp_data_vec,pt_diag_coeff[i])\n",
    "        evaluator.add_inplace(temp_result,temp_data_vec)\n",
    "    \n",
    "\n",
    "    evaluator.rescale_to_next_inplace(temp_result)\n",
    "    #pt_temp_result = decryptor.decrypt(temp_result)\n",
    "    #print(ckks_encoder.decode(pt_temp_result)[:14])\n",
    "\n",
    "    temp_result1 = evaluator.rotate_vector(temp_result,4,galois_keys)\n",
    "    temp_result2 = evaluator.rotate_vector(temp_result,8,galois_keys)\n",
    "\n",
    "    result = evaluator.add_many([temp_result,temp_result1,temp_result2])\n",
    "    \n",
    "    return result"
   ]
  },
  {
   "cell_type": "code",
   "execution_count": 14,
   "id": "f292b5d8",
   "metadata": {},
   "outputs": [],
   "source": [
    "def eval_deg9(ct_score,poly_approx,evaluator,relin_keys):\n",
    "    \n",
    "    #ct_score is ciphertext of raw score results from linear part of the logistic regression model.\n",
    "    #poly_approx is the np.array of coefficients of a degree 9 polynomial,\n",
    "    #poly_approx[i] the coeff of x ** i\n",
    "    \n",
    "    #Hide raw scores and deliver only the category with max score.\n",
    "    #Approximate max with polynomial approximation of threshold function.\n",
    "    powers = []\n",
    "    #const1 = [1]*slot_count\n",
    "    #powers.append(encryptor.encrypt(ckks_encoder.encode(const1)))\n",
    "    powers.append(ct_score)\n",
    "    square = evaluator.square(ct_score)\n",
    "\n",
    "    evaluator.relinearize_inplace(square,relin_keys)\n",
    "    evaluator.rescale_to_next_inplace(square)\n",
    "    powers.append(square)\n",
    "\n",
    "    evaluator.mod_switch_to_next_inplace(powers[0])\n",
    "    cube = evaluator.multiply(powers[0],powers[1])\n",
    "    evaluator.relinearize_inplace(cube,relin_keys)\n",
    "    evaluator.rescale_to_next_inplace(cube)\n",
    "    powers.append(cube)\n",
    "\n",
    "    sixth = evaluator.square(powers[2])\n",
    "    evaluator.relinearize_inplace(sixth,relin_keys)\n",
    "    evaluator.rescale_to_next_inplace(sixth)\n",
    "    powers.append(sixth)\n",
    "\n",
    "    #for power in powers:\n",
    "        #print(f\"Scale: {power.scale()}\")\n",
    "\n",
    "              \n",
    "    #Encode coefficients of approximating polynomial in plaintext\n",
    "    pt_coeff = []\n",
    "    for i in range(len(poly_approx)):\n",
    "        pt_coeff.append(ckks_encoder.encode(poly_approx[i],scale))\n",
    "\n",
    "    #Evaluate polynomial in babystep-gianstep form.\n",
    "    evaluator.mod_switch_to_inplace(pt_coeff[1],powers[0].parms_id())\n",
    "    poly_term1 = evaluator.multiply_plain(powers[0],pt_coeff[1])\n",
    "    evaluator.rescale_to_next_inplace(poly_term1)\n",
    "    evaluator.mod_switch_to_inplace(pt_coeff[2],powers[1].parms_id())\n",
    "    poly_term2 = evaluator.multiply_plain(powers[1],pt_coeff[2])\n",
    "    evaluator.rescale_to_next_inplace(poly_term2)\n",
    "    evaluator.mod_switch_to_inplace(pt_coeff[3],powers[2].parms_id())\n",
    "    poly_term3 = evaluator.multiply_plain(powers[2],pt_coeff[3])\n",
    "    evaluator.rescale_to_next_inplace(poly_term3)\n",
    "\n",
    "\n",
    "    evaluator.mod_switch_to_inplace(poly_term1,poly_term3.parms_id())\n",
    "    evaluator.mod_switch_to_inplace(poly_term2,poly_term3.parms_id())\n",
    "\n",
    "\n",
    "    poly_term1.scale(poly_term3.scale())\n",
    "    poly_term2.scale(poly_term3.scale())\n",
    "\n",
    "    group1 = evaluator.add_many([poly_term1,poly_term2,poly_term3])\n",
    "    evaluator.mod_switch_to_inplace(pt_coeff[0],group1.parms_id())\n",
    "    pt_coeff[0].scale(group1.scale())\n",
    "    evaluator.add_plain_inplace(group1,pt_coeff[0])\n",
    "\n",
    "\n",
    "    evaluator.mod_switch_to_inplace(pt_coeff[4],powers[0].parms_id())\n",
    "    poly_term4 = evaluator.multiply_plain(powers[0],pt_coeff[4])\n",
    "    evaluator.rescale_to_next_inplace(poly_term4)\n",
    "    evaluator.mod_switch_to_inplace(pt_coeff[5],powers[1].parms_id())\n",
    "    poly_term5 = evaluator.multiply_plain(powers[1],pt_coeff[5])\n",
    "    evaluator.rescale_to_next_inplace(poly_term5)\n",
    "    evaluator.mod_switch_to_inplace(pt_coeff[6],powers[2].parms_id())\n",
    "    poly_term6 = evaluator.multiply_plain(powers[2],pt_coeff[6])\n",
    "    evaluator.rescale_to_next_inplace(poly_term6)\n",
    "\n",
    "    evaluator.mod_switch_to_inplace(poly_term4,poly_term6.parms_id())\n",
    "    evaluator.mod_switch_to_inplace(poly_term5,poly_term6.parms_id())\n",
    "\n",
    "\n",
    "    poly_term4.scale(poly_term6.scale())\n",
    "    poly_term5.scale(poly_term6.scale())\n",
    "\n",
    "    group2 = evaluator.add_many([poly_term4,poly_term5,poly_term6])\n",
    "\n",
    "\n",
    "    evaluator.mod_switch_to_inplace(pt_coeff[7],powers[0].parms_id())\n",
    "    poly_term7 = evaluator.multiply_plain(powers[0],pt_coeff[7])\n",
    "    evaluator.rescale_to_next_inplace(poly_term7)\n",
    "    evaluator.mod_switch_to_inplace(pt_coeff[8],powers[1].parms_id())\n",
    "    poly_term8 = evaluator.multiply_plain(powers[1],pt_coeff[8])\n",
    "    evaluator.rescale_to_next_inplace(poly_term8)\n",
    "    evaluator.mod_switch_to_inplace(pt_coeff[9],powers[2].parms_id())\n",
    "    poly_term9 = evaluator.multiply_plain(powers[2],pt_coeff[9])\n",
    "    evaluator.rescale_to_next_inplace(poly_term9)\n",
    "\n",
    "    evaluator.mod_switch_to_inplace(poly_term7,poly_term9.parms_id())\n",
    "    evaluator.mod_switch_to_inplace(poly_term8,poly_term9.parms_id())\n",
    "\n",
    "\n",
    "    poly_term7.scale(poly_term9.scale())\n",
    "    poly_term8.scale(poly_term9.scale())\n",
    "\n",
    "\n",
    "    evaluator.mod_switch_to_inplace(powers[2],group2.parms_id())\n",
    "    evaluator.multiply_inplace(group2,powers[2])\n",
    "    evaluator.relinearize_inplace(group2,relin_keys)\n",
    "    evaluator.rescale_to_next_inplace(group2)\n",
    "\n",
    "    \n",
    "\n",
    "    group3 = evaluator.add_many([poly_term7,poly_term8,poly_term9])\n",
    "    evaluator.rescale_to_inplace(powers[3],group3.parms_id())\n",
    "    evaluator.multiply_inplace(group3,powers[3])\n",
    "    evaluator.relinearize_inplace(group3,relin_keys)\n",
    "    evaluator.rescale_to_next_inplace(group3)\n",
    "\n",
    "    \n",
    "\n",
    "    evaluator.mod_switch_to_inplace(group1,group3.parms_id())\n",
    "    evaluator.mod_switch_to_inplace(group2,group3.parms_id())\n",
    "\n",
    "    \n",
    "    group1.scale(group3.scale())\n",
    "    group2.scale(group3.scale())\n",
    "\n",
    "    final = evaluator.add_many([group1,group2,group3])\n",
    "    \n",
    "    return final"
   ]
  },
  {
   "cell_type": "code",
   "execution_count": 15,
   "id": "47c5b778",
   "metadata": {},
   "outputs": [],
   "source": [
    "#Encode batched model coefficients\n",
    "\n",
    "pt_model_diags = []\n",
    "for i in range(0,diags.shape[0]):\n",
    "    pt_model_diags.append(ckks_encoder.encode(batch_diags[i],scale))"
   ]
  },
  {
   "cell_type": "code",
   "execution_count": 17,
   "id": "47b2cc77",
   "metadata": {},
   "outputs": [],
   "source": [
    "encryptor = Encryptor(context, public_key)\n",
    "evaluator = Evaluator(context)"
   ]
  },
  {
   "cell_type": "code",
   "execution_count": 18,
   "id": "3391ba8c",
   "metadata": {},
   "outputs": [],
   "source": [
    "#Initialize and load ciphertexts from Data Owner\n",
    "\n",
    "ct_data = []\n",
    "for i in range(3):\n",
    "    pt_init = ckks_encoder.encode(0.,scale)\n",
    "    ct_init = encryptor.encrypt(pt_init)\n",
    "    ct_init.load(context, 'ct_%s' % i)\n",
    "    ct_data.append(ct_init)"
   ]
  },
  {
   "cell_type": "code",
   "execution_count": 19,
   "id": "d4d34509",
   "metadata": {},
   "outputs": [],
   "source": [
    "#Model owner runs the encrypted calculation\n",
    "final = []\n",
    "for i in range(3):\n",
    "    #Linear mat-vec product between model matrix and data\n",
    "    result = compute_logmodel_linear(ct_data[i],pt_model_diags,evaluator, galois_keys)\n",
    "\n",
    "    #Apply polynomial to approximate 0/1 classification vector\n",
    "    final.append(eval_deg9(result,approx.coef,evaluator,relin_keys))"
   ]
  },
  {
   "cell_type": "code",
   "execution_count": 20,
   "id": "e7d06d60",
   "metadata": {},
   "outputs": [],
   "source": [
    "#Save results to send to Data Owner in Step 4\n",
    "\n",
    "for i in range(3):\n",
    "    final[i].save('IDASH_ct_results_%s' % i)"
   ]
  },
  {
   "cell_type": "code",
   "execution_count": null,
   "id": "d18d4291",
   "metadata": {},
   "outputs": [],
   "source": []
  }
 ],
 "metadata": {
  "kernelspec": {
   "display_name": "Python 3 (ipykernel)",
   "language": "python",
   "name": "python3"
  },
  "language_info": {
   "codemirror_mode": {
    "name": "ipython",
    "version": 3
   },
   "file_extension": ".py",
   "mimetype": "text/x-python",
   "name": "python",
   "nbconvert_exporter": "python",
   "pygments_lexer": "ipython3",
   "version": "3.9.5"
  }
 },
 "nbformat": 4,
 "nbformat_minor": 5
}
