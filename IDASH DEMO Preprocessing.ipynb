{
 "cells": [
  {
   "cell_type": "code",
   "execution_count": 1,
   "id": "dfb48c54",
   "metadata": {},
   "outputs": [],
   "source": [
    "#Import necessary libraries\n",
    "\n",
    "import numpy as np\n",
    "import pandas as pd\n",
    "import seal\n",
    "from seal import *\n",
    "import sourmash as smsh\n",
    "import time\n",
    "import matplotlib.pyplot as plt\n",
    "import pickle"
   ]
  },
  {
   "cell_type": "code",
   "execution_count": 3,
   "id": "ae35be0a",
   "metadata": {},
   "outputs": [],
   "source": [
    "test_sketches = pickle.load(open('test_sketches.dump', 'rb'))\n",
    "anchor_sketches = pickle.load(open('anchor_sketches.dump', 'rb'))"
   ]
  },
  {
   "cell_type": "code",
   "execution_count": 7,
   "id": "500e5aca",
   "metadata": {},
   "outputs": [
    {
     "data": {
      "text/html": [
       "<div>\n",
       "<style scoped>\n",
       "    .dataframe tbody tr th:only-of-type {\n",
       "        vertical-align: middle;\n",
       "    }\n",
       "\n",
       "    .dataframe tbody tr th {\n",
       "        vertical-align: top;\n",
       "    }\n",
       "\n",
       "    .dataframe thead th {\n",
       "        text-align: right;\n",
       "    }\n",
       "</style>\n",
       "<table border=\"1\" class=\"dataframe\">\n",
       "  <thead>\n",
       "    <tr style=\"text-align: right;\">\n",
       "      <th></th>\n",
       "      <th>0</th>\n",
       "    </tr>\n",
       "  </thead>\n",
       "  <tbody>\n",
       "    <tr>\n",
       "      <th>4187</th>\n",
       "      <td>&lt;sourmash.minhash.MinHash object at 0x7fda8ea9...</td>\n",
       "    </tr>\n",
       "    <tr>\n",
       "      <th>5538</th>\n",
       "      <td>&lt;sourmash.minhash.MinHash object at 0x7fda8d8b...</td>\n",
       "    </tr>\n",
       "    <tr>\n",
       "      <th>141</th>\n",
       "      <td>&lt;sourmash.minhash.MinHash object at 0x7fda8cb4...</td>\n",
       "    </tr>\n",
       "    <tr>\n",
       "      <th>9</th>\n",
       "      <td>&lt;sourmash.minhash.MinHash object at 0x7fda8bdb...</td>\n",
       "    </tr>\n",
       "    <tr>\n",
       "      <th>5350</th>\n",
       "      <td>&lt;sourmash.minhash.MinHash object at 0x7fda8b05...</td>\n",
       "    </tr>\n",
       "    <tr>\n",
       "      <th>27</th>\n",
       "      <td>&lt;sourmash.minhash.MinHash object at 0x7fda8a28...</td>\n",
       "    </tr>\n",
       "    <tr>\n",
       "      <th>4438</th>\n",
       "      <td>&lt;sourmash.minhash.MinHash object at 0x7fda8952...</td>\n",
       "    </tr>\n",
       "    <tr>\n",
       "      <th>3291</th>\n",
       "      <td>&lt;sourmash.minhash.MinHash object at 0x7fda8881...</td>\n",
       "    </tr>\n",
       "    <tr>\n",
       "      <th>735</th>\n",
       "      <td>&lt;sourmash.minhash.MinHash object at 0x7fda87a3...</td>\n",
       "    </tr>\n",
       "    <tr>\n",
       "      <th>960</th>\n",
       "      <td>&lt;sourmash.minhash.MinHash object at 0x7fda86d2...</td>\n",
       "    </tr>\n",
       "    <tr>\n",
       "      <th>40</th>\n",
       "      <td>&lt;sourmash.minhash.MinHash object at 0x7fda85f9...</td>\n",
       "    </tr>\n",
       "    <tr>\n",
       "      <th>5735</th>\n",
       "      <td>&lt;sourmash.minhash.MinHash object at 0x7fda8517...</td>\n",
       "    </tr>\n",
       "  </tbody>\n",
       "</table>\n",
       "</div>"
      ],
      "text/plain": [
       "                                                      0\n",
       "4187  <sourmash.minhash.MinHash object at 0x7fda8ea9...\n",
       "5538  <sourmash.minhash.MinHash object at 0x7fda8d8b...\n",
       "141   <sourmash.minhash.MinHash object at 0x7fda8cb4...\n",
       "9     <sourmash.minhash.MinHash object at 0x7fda8bdb...\n",
       "5350  <sourmash.minhash.MinHash object at 0x7fda8b05...\n",
       "27    <sourmash.minhash.MinHash object at 0x7fda8a28...\n",
       "4438  <sourmash.minhash.MinHash object at 0x7fda8952...\n",
       "3291  <sourmash.minhash.MinHash object at 0x7fda8881...\n",
       "735   <sourmash.minhash.MinHash object at 0x7fda87a3...\n",
       "960   <sourmash.minhash.MinHash object at 0x7fda86d2...\n",
       "40    <sourmash.minhash.MinHash object at 0x7fda85f9...\n",
       "5735  <sourmash.minhash.MinHash object at 0x7fda8517..."
      ]
     },
     "execution_count": 7,
     "metadata": {},
     "output_type": "execute_result"
    }
   ],
   "source": [
    "anchor_sketches"
   ]
  },
  {
   "cell_type": "code",
   "execution_count": 8,
   "id": "fdb891e8",
   "metadata": {},
   "outputs": [
    {
     "name": "stdout",
     "output_type": "stream",
     "text": [
      "Time to Preprocess Data: 1.667s\n"
     ]
    }
   ],
   "source": [
    "#DATA OWNER preprocessing\n",
    "#Model owner sends data owner sketches of the anchor samples \n",
    "#Data owner computes vector of distances to each of the 12 anchors\n",
    "#for each test sample.\n",
    "#These vectors will be hidden by the encryption.\n",
    "import time\n",
    "\n",
    "start = time.time()\n",
    "jacc_sim = np.zeros((1000,12))\n",
    "\n",
    "i=0\n",
    "for sketch in test_sketches[0]:\n",
    "    j=0\n",
    "    for anchor in anchor_sketches[0]:\n",
    "        jacc_sim[i,j] = round(sketch.jaccard(anchor),4)\n",
    "        j+=1\n",
    "    i+=1\n",
    "        \n",
    "dist_data = np.zeros((1000,12))\n",
    "\n",
    "for i in range(1000):\n",
    "    for j in range(12):\n",
    "        dist_data[i,j] = -np.log(2*jacc_sim[i,j])+np.log(1+jacc_sim[i,j])\n",
    "        \n",
    "end = time.time()\n",
    "print(f'Time to Preprocess Data: {(end-start):.3f}s')"
   ]
  },
  {
   "cell_type": "code",
   "execution_count": 9,
   "id": "f90b4ec4",
   "metadata": {},
   "outputs": [],
   "source": [
    "#DATA OWNER preprocessing\n",
    "#Batches 341 samples into a single plaintext (8192 slots / (12 + 12 empty))\n",
    "#1000 samples are placed into 3 large vectors\n",
    "#batch_data[2] has extra 0's at the end\n",
    "batch_data = np.zeros((3,8192))\n",
    "for i in range(3):\n",
    "    for j in range(341):\n",
    "        if 341*i+j < 1000:\n",
    "            batch_data[i][24*j:24*j+12] = dist_data[341*i+j]"
   ]
  },
  {
   "cell_type": "code",
   "execution_count": 10,
   "id": "1c16d35e",
   "metadata": {},
   "outputs": [
    {
     "name": "stdout",
     "output_type": "stream",
     "text": [
      "438\n",
      "Number of slots: 8192\n"
     ]
    }
   ],
   "source": [
    "#DATA OWNER\n",
    "#Set the parameters of the encryption context.\n",
    "\n",
    "parms = EncryptionParameters(scheme_type.ckks)\n",
    "poly_modulus_degree = 16384\n",
    "parms.set_poly_modulus_degree(poly_modulus_degree)\n",
    "parms.set_coeff_modulus(CoeffModulus.Create(poly_modulus_degree, [60, 40, 40, 40, 40, 40, 60]))\n",
    "#320-bit coeff modulus Q. \n",
    "#From SEAL manual, security cutoffs for N=16384 are 300 bits for 192-bit security, 438 bits for 128-bit security.\n",
    "scale = 2.0**40\n",
    "context = SEALContext(parms)\n",
    "#print_parameters(context)\n",
    "\n",
    "print(CoeffModulus.MaxBitCount(poly_modulus_degree))\n",
    "\n",
    "ckks_encoder = CKKSEncoder(context)\n",
    "slot_count = ckks_encoder.slot_count()\n",
    "print(f'Number of slots: {slot_count}')\n",
    "\n",
    "keygen = KeyGenerator(context)\n",
    "public_key = keygen.create_public_key()\n",
    "secret_key = keygen.secret_key()\n",
    "galois_keys = keygen.create_galois_keys()\n",
    "relin_keys = keygen.create_relin_keys()\n",
    "\n",
    "encryptor = Encryptor(context, public_key)\n",
    "evaluator = Evaluator(context)"
   ]
  },
  {
   "cell_type": "code",
   "execution_count": 11,
   "id": "c5d29fcf",
   "metadata": {},
   "outputs": [],
   "source": [
    "#DATA OWNER\n",
    "#Encode and encrypt data owner's distance vector\n",
    "pt_data = []\n",
    "ct_data = []\n",
    "\n",
    "for i in range(3):\n",
    "    pt_data.append(ckks_encoder.encode(batch_data[i],scale))\n",
    "    ct_data.append(encryptor.encrypt(pt_data[i]))"
   ]
  },
  {
   "cell_type": "code",
   "execution_count": 13,
   "id": "5574138c",
   "metadata": {},
   "outputs": [
    {
     "ename": "TypeError",
     "evalue": "cannot pickle 'seal.Encryptor' object",
     "output_type": "error",
     "traceback": [
      "\u001b[0;31m---------------------------------------------------------------------------\u001b[0m",
      "\u001b[0;31mTypeError\u001b[0m                                 Traceback (most recent call last)",
      "Input \u001b[0;32mIn [13]\u001b[0m, in \u001b[0;36m<cell line: 6>\u001b[0;34m()\u001b[0m\n\u001b[1;32m      1\u001b[0m \u001b[38;5;66;03m#DATA OWNER\u001b[39;00m\n\u001b[1;32m      2\u001b[0m \u001b[38;5;66;03m#Save to file: ciphertext data and encryption context,\u001b[39;00m\n\u001b[1;32m      3\u001b[0m \u001b[38;5;66;03m#including parameters, public key, galois keys, and relinearization keys\u001b[39;00m\n\u001b[1;32m      4\u001b[0m \n\u001b[1;32m      5\u001b[0m \u001b[38;5;66;03m#pickle.dump(ct_data, open('ct_data','wb'))\u001b[39;00m\n\u001b[0;32m----> 6\u001b[0m \u001b[43mpickle\u001b[49m\u001b[38;5;241;43m.\u001b[39;49m\u001b[43mdump\u001b[49m\u001b[43m(\u001b[49m\u001b[43mencryptor\u001b[49m\u001b[43m,\u001b[49m\u001b[43m \u001b[49m\u001b[38;5;28;43mopen\u001b[39;49m\u001b[43m(\u001b[49m\u001b[38;5;124;43m'\u001b[39;49m\u001b[38;5;124;43mencryptor\u001b[39;49m\u001b[38;5;124;43m'\u001b[39;49m\u001b[43m,\u001b[49m\u001b[43m \u001b[49m\u001b[38;5;124;43m'\u001b[39;49m\u001b[38;5;124;43mwb\u001b[39;49m\u001b[38;5;124;43m'\u001b[39;49m\u001b[43m)\u001b[49m\u001b[43m)\u001b[49m\n\u001b[1;32m      7\u001b[0m pickle\u001b[38;5;241m.\u001b[39mdump(evaluator, \u001b[38;5;28mopen\u001b[39m(\u001b[38;5;124m'\u001b[39m\u001b[38;5;124mevaluator\u001b[39m\u001b[38;5;124m'\u001b[39m, \u001b[38;5;124m'\u001b[39m\u001b[38;5;124mwb\u001b[39m\u001b[38;5;124m'\u001b[39m))\n\u001b[1;32m      8\u001b[0m pickle\u001b[38;5;241m.\u001b[39mdump(galois_keys, \u001b[38;5;28mopen\u001b[39m(\u001b[38;5;124m'\u001b[39m\u001b[38;5;124mgalois_keys\u001b[39m\u001b[38;5;124m'\u001b[39m, \u001b[38;5;124m'\u001b[39m\u001b[38;5;124mwb\u001b[39m\u001b[38;5;124m'\u001b[39m))\n",
      "\u001b[0;31mTypeError\u001b[0m: cannot pickle 'seal.Encryptor' object"
     ]
    }
   ],
   "source": [
    "#DATA OWNER\n",
    "#Save to file: ciphertext data and encryption context,\n",
    "#including parameters, public key, galois keys, and relinearization keys\n",
    "\n",
    "pickle.dump(ct_data, open('ct_data','wb'))\n",
    "pickle.dump(encryptor, open('encryptor', 'wb'))\n",
    "pickle.dump(evaluator, open('evaluator', 'wb'))\n",
    "pickle.dump(galois_keys, open('galois_keys', 'wb'))\n",
    "pickle.dump(relin_keys, open('relin_keys', 'wb'))"
   ]
  },
  {
   "cell_type": "code",
   "execution_count": null,
   "id": "0ff0df5f",
   "metadata": {},
   "outputs": [],
   "source": []
  }
 ],
 "metadata": {
  "kernelspec": {
   "display_name": "Python 3 (ipykernel)",
   "language": "python",
   "name": "python3"
  },
  "language_info": {
   "codemirror_mode": {
    "name": "ipython",
    "version": 3
   },
   "file_extension": ".py",
   "mimetype": "text/x-python",
   "name": "python",
   "nbconvert_exporter": "python",
   "pygments_lexer": "ipython3",
   "version": "3.9.5"
  }
 },
 "nbformat": 4,
 "nbformat_minor": 5
}
